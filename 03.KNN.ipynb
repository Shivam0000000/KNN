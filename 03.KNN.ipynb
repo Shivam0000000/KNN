{
 "cells": [
  {
   "cell_type": "markdown",
   "id": "df05e0a2-19bf-4192-9e24-a1aa1f52010d",
   "metadata": {},
   "source": [
    "Q1. Write a Python code to implement the KNN classifier algorithm on load_iris dataset in\n",
    "sklearn.datasets.\n"
   ]
  },
  {
   "cell_type": "code",
   "execution_count": 5,
   "id": "cdb752f8-8abe-46e9-af01-1e6d1dc1740f",
   "metadata": {},
   "outputs": [
    {
     "name": "stdout",
     "output_type": "stream",
     "text": [
      "Accuracy:  0.9666666666666667\n"
     ]
    }
   ],
   "source": [
    "# libraries\n",
    "import pandas as pd\n",
    "from sklearn.datasets import load_iris\n",
    "from sklearn.model_selection import train_test_split, cross_val_score\n",
    "from sklearn.neighbors import KNeighborsClassifier\n",
    "from sklearn.metrics import accuracy_score\n",
    "\n",
    "# load Iris dataset and define X and y\n",
    "data=load_iris()\n",
    "X=data.data\n",
    "y=data.target\n",
    "\n",
    "# train and test split\n",
    "X_train,X_test,y_train,y_test=train_test_split(X,y,test_size=.20,random_state=22)\n",
    "\n",
    "# Object of KNN model for classification\n",
    "knn=KNeighborsClassifier()\n",
    "\n",
    "# train model\n",
    "knn.fit(X_train,y_train)\n",
    "\n",
    "# store prediction of model\n",
    "y_pred=knn.predict(X_test)\n",
    "\n",
    "# Check Performance of model\n",
    "print(\"Accuracy: \",accuracy_score(y_pred,y_test))"
   ]
  },
  {
   "cell_type": "markdown",
   "id": "a12969cd-73b2-4bfa-a321-0b951d78e8bd",
   "metadata": {},
   "source": [
    "Q2. Write a Python code to implement the KNN regressor algorithm on load_boston dataset in\n",
    "sklearn.datasets.\n"
   ]
  },
  {
   "cell_type": "code",
   "execution_count": 3,
   "id": "67640228-2014-4c79-9e59-3515bc69d1c6",
   "metadata": {},
   "outputs": [
    {
     "name": "stdout",
     "output_type": "stream",
     "text": [
      "Root Error:  6.09551683536319\n"
     ]
    }
   ],
   "source": [
    "# libraries\n",
    "import pandas as pd\n",
    "import numpy as np\n",
    "from sklearn.model_selection import train_test_split, cross_val_score\n",
    "from sklearn.neighbors import KNeighborsRegressor\n",
    "from sklearn.metrics import mean_squared_error\n",
    "\n",
    "# load Boston dataset and define X and y\n",
    "data_url = \"http://lib.stat.cmu.edu/datasets/boston\"\n",
    "raw_df = pd.read_csv(data_url, sep=\"\\s+\", skiprows=22, header=None)\n",
    "X= np.hstack([raw_df.values[::2, :], raw_df.values[1::2, :2]])\n",
    "y = raw_df.values[1::2, 2]\n",
    "\n",
    "# train and test split\n",
    "X_train,X_test,y_train,y_test=train_test_split(X,y,test_size=.20,random_state=22)\n",
    "\n",
    "# Object of KNN model for Regression\n",
    "knn=KNeighborsRegressor()\n",
    "\n",
    "# train model\n",
    "knn.fit(X_train,y_train)\n",
    "\n",
    "# store prediction of model\n",
    "y_pred=knn.predict(X_test)\n",
    "\n",
    "# Check Performance of model\n",
    "print(\"Root Error: \",np.sqrt(mean_squared_error(y_pred,y_test)))"
   ]
  },
  {
   "cell_type": "markdown",
   "id": "8838b7cd-b922-480d-b98c-8b6de3bcb28c",
   "metadata": {},
   "source": [
    "Q3. Write a Python code snippet to find the optimal value of K for the KNN classifier algorithm using\n",
    "cross-validation on load_iris dataset in sklearn.datasets.\n"
   ]
  },
  {
   "cell_type": "code",
   "execution_count": 9,
   "id": "8200cd14-529f-4bdc-a0a1-25356481f81c",
   "metadata": {},
   "outputs": [
    {
     "name": "stdout",
     "output_type": "stream",
     "text": [
      "Optimal value of K: 9\n"
     ]
    }
   ],
   "source": [
    "# libraries\n",
    "import warnings\n",
    "warnings.filterwarnings('ignore')\n",
    "from sklearn.preprocessing import LabelEncoder\n",
    "from sklearn.model_selection import cross_val_score\n",
    "\n",
    "# Perform cross-validation to evaluate each K value\n",
    "score=[]\n",
    "for k in range(1,20):\n",
    "    knn=KNeighborsClassifier(n_neighbors=k,algorithm='auto')\n",
    "    cv_score=cross_val_score(knn,X_train,y_train,cv=5,error_score='raise')\n",
    "    score.append(np.mean(cv_score))\n",
    "    \n",
    "# Best K value     \n",
    "best_k=score.index(max(score))+1\n",
    "\n",
    "print('Optimal value of K:',best_k) # K=9, is the best value of K"
   ]
  },
  {
   "cell_type": "markdown",
   "id": "bda1813e-219b-422c-9fe3-b9ef2994647b",
   "metadata": {},
   "source": [
    "Q4. Implement the KNN regressor algorithm with feature scaling on load_boston dataset in\n",
    "sklearn.datasets.\n"
   ]
  },
  {
   "cell_type": "code",
   "execution_count": 3,
   "id": "10c3011d-f3f0-4b50-8ce5-fc503c3f9835",
   "metadata": {},
   "outputs": [
    {
     "name": "stdout",
     "output_type": "stream",
     "text": [
      "Root Error:  4.392498953764648\n"
     ]
    }
   ],
   "source": [
    "# libraries\n",
    "import pandas as pd\n",
    "import numpy as np\n",
    "from sklearn.model_selection import train_test_split\n",
    "from sklearn.preprocessing import StandardScaler\n",
    "from sklearn.neighbors import KNeighborsRegressor\n",
    "from sklearn.metrics import mean_squared_error\n",
    "\n",
    "# load Boston dataset and define X and y\n",
    "data_url = \"http://lib.stat.cmu.edu/datasets/boston\"\n",
    "raw_df = pd.read_csv(data_url, sep=\"\\s+\", skiprows=22, header=None)\n",
    "X= np.hstack([raw_df.values[::2, :], raw_df.values[1::2, :2]])\n",
    "y = raw_df.values[1::2, 2]\n",
    "\n",
    "\n",
    "# train and test split\n",
    "X_train,X_test,y_train,y_test=train_test_split(X,y,test_size=.20,random_state=22)\n",
    "\n",
    "\n",
    "# Feature Scaling\n",
    "scaler=StandardScaler()\n",
    "X_train=scaler.fit_transform(X_train)\n",
    "X_test=scaler.transform(X_test)\n",
    "\n",
    "\n",
    "# Object of KNN model for Regression\n",
    "knn=KNeighborsRegressor()\n",
    "\n",
    "# train model\n",
    "knn.fit(X_train,y_train)\n",
    "\n",
    "# store prediction of model\n",
    "y_pred=knn.predict(X_test)\n",
    "\n",
    "# Check Performance of model\n",
    "print(\"Root Error: \",np.sqrt(mean_squared_error(y_pred,y_test)))"
   ]
  },
  {
   "cell_type": "markdown",
   "id": "30e1ca0d-42cc-4fbc-8e98-b37d560966d4",
   "metadata": {},
   "source": [
    "Q5. Write a Python code snippet to implement the KNN classifier algorithm with weighted voting on\n",
    "load_iris dataset in sklearn.datasets.\n"
   ]
  },
  {
   "cell_type": "code",
   "execution_count": 6,
   "id": "26628f8d-c702-4fe7-a100-f761cfdecf1a",
   "metadata": {},
   "outputs": [
    {
     "name": "stdout",
     "output_type": "stream",
     "text": [
      "Accuracy:  0.9666666666666667\n"
     ]
    }
   ],
   "source": [
    "# Object of KNN model for classification\n",
    "knn=KNeighborsClassifier(weights='distance')\n",
    "\n",
    "# train model\n",
    "knn.fit(X_train,y_train)\n",
    "\n",
    "# store prediction of model\n",
    "y_pred=knn.predict(X_test)\n",
    "\n",
    "# Check Performance of model\n",
    "print(\"Accuracy: \",accuracy_score(y_pred,y_test))"
   ]
  },
  {
   "cell_type": "markdown",
   "id": "654d0091-0d0a-4947-ade6-fd1aa0fb354b",
   "metadata": {},
   "source": [
    "Q6. Implement a function to standardise the features before applying KNN classifier.\n"
   ]
  },
  {
   "cell_type": "code",
   "execution_count": 7,
   "id": "1e4b3b6f-9d89-47e5-be1b-3ba35b2d055b",
   "metadata": {},
   "outputs": [],
   "source": [
    "# library\n",
    "from sklearn.preprocessing import StandardScaler\n",
    "\n",
    "# Function Defination\n",
    "def standardised(X_train,X_test):\n",
    "    scaler=StandardScaler()\n",
    "    X_train_scaled=scaler.fit_transform(X_train)\n",
    "    X_test_scaled=scaler.transform(X_test)\n",
    "    \n",
    "    return X_train_scaled,X_test_scaled"
   ]
  },
  {
   "cell_type": "markdown",
   "id": "0c5cbea3-53f4-4985-9c76-77cf38cff1c5",
   "metadata": {},
   "source": [
    "Q7. Write a Python function to calculate the euclidean distance between two points.\n"
   ]
  },
  {
   "cell_type": "code",
   "execution_count": 12,
   "id": "b49de5f9-00d6-403c-8f63-e2e1738be5e6",
   "metadata": {},
   "outputs": [
    {
     "name": "stdout",
     "output_type": "stream",
     "text": [
      "Euclidean Distance :  11.180339887498949\n"
     ]
    }
   ],
   "source": [
    "# Function Defination\n",
    "def Calculate_euclidean_distance(x1,x2,y1,y2):\n",
    "    res=np.sqrt((x2-x1)**2 + (y2-y1)**2)\n",
    "    \n",
    "    return res\n",
    "\n",
    "# Two Points\n",
    "x1=10\n",
    "x2=20\n",
    "\n",
    "y1=5\n",
    "y2=10\n",
    "\n",
    "# Function Call\n",
    "distance=Calculate_euclidean_distance(x1,x2,y1,y2)\n",
    "\n",
    "# result\n",
    "print(\"Euclidean Distance : \",distance)"
   ]
  },
  {
   "cell_type": "markdown",
   "id": "25259955-4a9a-46e7-87de-1a5b338f6e5b",
   "metadata": {},
   "source": [
    "Q8. Write a Python function to calculate the manhattan distance between two points."
   ]
  },
  {
   "cell_type": "code",
   "execution_count": 13,
   "id": "8a38b2df-4ab0-45b7-a8af-74772c86cb72",
   "metadata": {},
   "outputs": [
    {
     "name": "stdout",
     "output_type": "stream",
     "text": [
      "Manhattan Distance :  15\n"
     ]
    }
   ],
   "source": [
    "# Function Defination\n",
    "def Calculate_manhattan_distance(p1,p2):\n",
    "    res=np.abs((x2-x1) + (y2-y1))\n",
    "    \n",
    "    return res\n",
    "\n",
    "# Two Points\n",
    "x1=10\n",
    "x2=20\n",
    "\n",
    "y1=5\n",
    "y2=10\n",
    "\n",
    "# Function Call\n",
    "distance=Calculate_manhattan_distance(p1,p2)\n",
    "\n",
    "# result\n",
    "print(\"Manhattan Distance : \",distance)"
   ]
  }
 ],
 "metadata": {
  "kernelspec": {
   "display_name": "Python 3 (ipykernel)",
   "language": "python",
   "name": "python3"
  },
  "language_info": {
   "codemirror_mode": {
    "name": "ipython",
    "version": 3
   },
   "file_extension": ".py",
   "mimetype": "text/x-python",
   "name": "python",
   "nbconvert_exporter": "python",
   "pygments_lexer": "ipython3",
   "version": "3.10.8"
  }
 },
 "nbformat": 4,
 "nbformat_minor": 5
}
